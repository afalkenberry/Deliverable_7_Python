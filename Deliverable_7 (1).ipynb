{
  "nbformat": 4,
  "nbformat_minor": 0,
  "metadata": {
    "colab": {
      "provenance": [],
      "collapsed_sections": []
    },
    "kernelspec": {
      "name": "python3",
      "display_name": "Python 3"
    },
    "language_info": {
      "name": "python"
    }
  },
  "cells": [
    {
      "cell_type": "code",
      "execution_count": 5,
      "metadata": {
        "colab": {
          "base_uri": "https://localhost:8080/"
        },
        "id": "yQsXzXz08xDB",
        "outputId": "c3079c19-7078-44e3-c16d-78840cb26a56"
      },
      "outputs": [
        {
          "output_type": "execute_result",
          "data": {
            "text/plain": [
              "array([21, 36, 39, 43, 37, 24, 24, 31, 49, 35])"
            ]
          },
          "metadata": {},
          "execution_count": 5
        }
      ],
      "source": [
        "import numpy as np\n",
        "np.random.randint(10,50,10)"
      ]
    },
    {
      "cell_type": "code",
      "source": [
        "def randomList(y):\n",
        "  return list(np.random.randint(low = 10, high = 50, size = y))"
      ],
      "metadata": {
        "id": "WNRYdUx995N4",
        "colab": {
          "base_uri": "https://localhost:8080/"
        },
        "outputId": "326ff31b-6a41-45c1-fae2-241e099a6d13"
      },
      "execution_count": 3,
      "outputs": [
        {
          "output_type": "stream",
          "name": "stdout",
          "text": [
            "Your list is  [12, 27, 21, 29, 33, 41, 22, 44, 37, 41]\n"
          ]
        }
      ]
    },
    {
      "cell_type": "code",
      "source": [
        "def sumList(x):\n",
        "  return np.sum(x)\n"
      ],
      "metadata": {
        "id": "yZbDv54X84Wg"
      },
      "execution_count": 4,
      "outputs": []
    },
    {
      "cell_type": "code",
      "source": [
        "try:\n",
        "\n",
        "  user_int = int(input('Enter an integer between 5 and 15: '))\n",
        "\n",
        "  while True:\n",
        "    if user_int < 5 or user_int > 15:\n",
        "      print('Int is outside of the bounds')\n",
        "      user_int = int(input('Enter an integer between 5 and 15: '))\n",
        "      continue\n",
        "    else:\n",
        "      print('The elements of your list are', randomList(user_int))\n",
        "      print('The sum of the elements is: ', sumList(randomList(user_int)))\n",
        "      break\n",
        "\n",
        "except:\n",
        "  print('Please enter a valid integer')\n",
        "\n",
        "\n"
      ],
      "metadata": {
        "id": "VKGv1pmdC19D",
        "colab": {
          "base_uri": "https://localhost:8080/"
        },
        "outputId": "bcc90bd5-7d8b-4964-d05e-32d4fac95a57"
      },
      "execution_count": 11,
      "outputs": [
        {
          "output_type": "stream",
          "name": "stdout",
          "text": [
            "Enter an integer between 5 and 15: 0\n",
            "Int is outside of the bounds\n",
            "Enter an integer between 5 and 15: 0\n",
            "Int is outside of the bounds\n",
            "Enter an integer between 5 and 15: 9\n",
            "The elements of your list are [11, 31, 46, 44, 47, 25, 31, 28, 32]\n",
            "The sum of the elements is:  228\n"
          ]
        }
      ]
    }
  ]
}